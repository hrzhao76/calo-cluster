{
 "cells": [
  {
   "cell_type": "code",
   "execution_count": 2,
   "id": "630c3260-780c-42f0-9513-3d5f3cfdf25c",
   "metadata": {},
   "outputs": [
    {
     "name": "stdout",
     "output_type": "stream",
     "text": [
      "Welcome to JupyROOT 6.24/06\n"
     ]
    }
   ],
   "source": [
    "import pickle\n",
    "import pandas as pd\n",
    "import ROOT \n",
    "import numpy as np"
   ]
  },
  {
   "cell_type": "code",
   "execution_count": 3,
   "id": "711704a0-14c8-47d3-8cf3-47413b2ace35",
   "metadata": {},
   "outputs": [
    {
     "data": {
      "text/plain": [
       "1000"
      ]
     },
     "execution_count": 3,
     "metadata": {},
     "output_type": "execute_result"
    }
   ],
   "source": [
    "len(output)"
   ]
  },
  {
   "cell_type": "code",
   "execution_count": 4,
   "id": "8f5aaa78-667b-44f8-b9fd-28f823cfafbb",
   "metadata": {},
   "outputs": [
    {
     "data": {
      "text/html": [
       "<div>\n",
       "<style scoped>\n",
       "    .dataframe tbody tr th:only-of-type {\n",
       "        vertical-align: middle;\n",
       "    }\n",
       "\n",
       "    .dataframe tbody tr th {\n",
       "        vertical-align: top;\n",
       "    }\n",
       "\n",
       "    .dataframe thead th {\n",
       "        text-align: right;\n",
       "    }\n",
       "</style>\n",
       "<table border=\"1\" class=\"dataframe\">\n",
       "  <thead>\n",
       "    <tr style=\"text-align: right;\">\n",
       "      <th></th>\n",
       "      <th>d0</th>\n",
       "      <th>z0</th>\n",
       "      <th>phi</th>\n",
       "      <th>theta</th>\n",
       "      <th>qp</th>\n",
       "      <th>time</th>\n",
       "      <th>err_d0</th>\n",
       "      <th>err_z0</th>\n",
       "      <th>err_phi</th>\n",
       "      <th>err_theta</th>\n",
       "      <th>err_qp</th>\n",
       "      <th>err_time</th>\n",
       "      <th>truth_vtxID</th>\n",
       "      <th>pred_label</th>\n",
       "    </tr>\n",
       "  </thead>\n",
       "  <tbody>\n",
       "    <tr>\n",
       "      <th>0</th>\n",
       "      <td>-0.380284</td>\n",
       "      <td>0.096782</td>\n",
       "      <td>0.210407</td>\n",
       "      <td>1.112431</td>\n",
       "      <td>0.273764</td>\n",
       "      <td>1107.508911</td>\n",
       "      <td>0.034043</td>\n",
       "      <td>0.044472</td>\n",
       "      <td>0.001064</td>\n",
       "      <td>0.000931</td>\n",
       "      <td>0.007895</td>\n",
       "      <td>299.79245</td>\n",
       "      <td>0</td>\n",
       "      <td>1</td>\n",
       "    </tr>\n",
       "    <tr>\n",
       "      <th>1</th>\n",
       "      <td>-0.862467</td>\n",
       "      <td>0.096751</td>\n",
       "      <td>0.382348</td>\n",
       "      <td>0.201103</td>\n",
       "      <td>-0.107264</td>\n",
       "      <td>890.897949</td>\n",
       "      <td>0.067760</td>\n",
       "      <td>0.162320</td>\n",
       "      <td>0.001257</td>\n",
       "      <td>0.000373</td>\n",
       "      <td>0.003393</td>\n",
       "      <td>299.79248</td>\n",
       "      <td>0</td>\n",
       "      <td>1</td>\n",
       "    </tr>\n",
       "    <tr>\n",
       "      <th>2</th>\n",
       "      <td>0.012195</td>\n",
       "      <td>0.096685</td>\n",
       "      <td>0.511967</td>\n",
       "      <td>0.243231</td>\n",
       "      <td>0.044517</td>\n",
       "      <td>682.265198</td>\n",
       "      <td>0.039178</td>\n",
       "      <td>0.084507</td>\n",
       "      <td>0.000744</td>\n",
       "      <td>0.000249</td>\n",
       "      <td>0.001491</td>\n",
       "      <td>299.79248</td>\n",
       "      <td>0</td>\n",
       "      <td>1</td>\n",
       "    </tr>\n",
       "    <tr>\n",
       "      <th>3</th>\n",
       "      <td>1.293400</td>\n",
       "      <td>0.096890</td>\n",
       "      <td>0.412932</td>\n",
       "      <td>0.863238</td>\n",
       "      <td>-0.370806</td>\n",
       "      <td>1167.995605</td>\n",
       "      <td>0.031692</td>\n",
       "      <td>0.040798</td>\n",
       "      <td>0.000787</td>\n",
       "      <td>0.001301</td>\n",
       "      <td>0.009918</td>\n",
       "      <td>299.79245</td>\n",
       "      <td>0</td>\n",
       "      <td>1</td>\n",
       "    </tr>\n",
       "    <tr>\n",
       "      <th>4</th>\n",
       "      <td>-0.698098</td>\n",
       "      <td>0.096838</td>\n",
       "      <td>-0.421190</td>\n",
       "      <td>0.355347</td>\n",
       "      <td>0.133136</td>\n",
       "      <td>988.288818</td>\n",
       "      <td>0.049506</td>\n",
       "      <td>0.070116</td>\n",
       "      <td>0.000976</td>\n",
       "      <td>0.000570</td>\n",
       "      <td>0.004092</td>\n",
       "      <td>299.79245</td>\n",
       "      <td>0</td>\n",
       "      <td>1</td>\n",
       "    </tr>\n",
       "    <tr>\n",
       "      <th>...</th>\n",
       "      <td>...</td>\n",
       "      <td>...</td>\n",
       "      <td>...</td>\n",
       "      <td>...</td>\n",
       "      <td>...</td>\n",
       "      <td>...</td>\n",
       "      <td>...</td>\n",
       "      <td>...</td>\n",
       "      <td>...</td>\n",
       "      <td>...</td>\n",
       "      <td>...</td>\n",
       "      <td>...</td>\n",
       "      <td>...</td>\n",
       "      <td>...</td>\n",
       "    </tr>\n",
       "    <tr>\n",
       "      <th>116</th>\n",
       "      <td>-2.052145</td>\n",
       "      <td>-0.083493</td>\n",
       "      <td>0.311750</td>\n",
       "      <td>0.290069</td>\n",
       "      <td>0.083498</td>\n",
       "      <td>3918.923828</td>\n",
       "      <td>0.046767</td>\n",
       "      <td>0.081285</td>\n",
       "      <td>0.000939</td>\n",
       "      <td>0.000417</td>\n",
       "      <td>0.002627</td>\n",
       "      <td>299.79245</td>\n",
       "      <td>5</td>\n",
       "      <td>0</td>\n",
       "    </tr>\n",
       "    <tr>\n",
       "      <th>117</th>\n",
       "      <td>-16.598299</td>\n",
       "      <td>-0.081082</td>\n",
       "      <td>0.104956</td>\n",
       "      <td>0.790115</td>\n",
       "      <td>0.223654</td>\n",
       "      <td>4241.563965</td>\n",
       "      <td>0.051378</td>\n",
       "      <td>0.058711</td>\n",
       "      <td>0.001204</td>\n",
       "      <td>0.001408</td>\n",
       "      <td>0.005995</td>\n",
       "      <td>299.79245</td>\n",
       "      <td>5</td>\n",
       "      <td>0</td>\n",
       "    </tr>\n",
       "    <tr>\n",
       "      <th>118</th>\n",
       "      <td>4.761304</td>\n",
       "      <td>-0.082311</td>\n",
       "      <td>0.461286</td>\n",
       "      <td>0.155370</td>\n",
       "      <td>-0.067531</td>\n",
       "      <td>3885.405029</td>\n",
       "      <td>0.033794</td>\n",
       "      <td>0.149497</td>\n",
       "      <td>0.001209</td>\n",
       "      <td>0.000248</td>\n",
       "      <td>0.002123</td>\n",
       "      <td>299.79248</td>\n",
       "      <td>5</td>\n",
       "      <td>0</td>\n",
       "    </tr>\n",
       "    <tr>\n",
       "      <th>119</th>\n",
       "      <td>-25.686710</td>\n",
       "      <td>-0.085718</td>\n",
       "      <td>-0.375282</td>\n",
       "      <td>0.839057</td>\n",
       "      <td>-0.362273</td>\n",
       "      <td>3761.727051</td>\n",
       "      <td>0.038892</td>\n",
       "      <td>0.054252</td>\n",
       "      <td>0.001108</td>\n",
       "      <td>0.001819</td>\n",
       "      <td>0.009533</td>\n",
       "      <td>299.79245</td>\n",
       "      <td>5</td>\n",
       "      <td>0</td>\n",
       "    </tr>\n",
       "    <tr>\n",
       "      <th>120</th>\n",
       "      <td>-35.457642</td>\n",
       "      <td>-0.100247</td>\n",
       "      <td>0.460682</td>\n",
       "      <td>0.472331</td>\n",
       "      <td>-0.222290</td>\n",
       "      <td>3976.719238</td>\n",
       "      <td>0.058137</td>\n",
       "      <td>0.071922</td>\n",
       "      <td>0.001043</td>\n",
       "      <td>0.000886</td>\n",
       "      <td>0.006424</td>\n",
       "      <td>299.79245</td>\n",
       "      <td>5</td>\n",
       "      <td>0</td>\n",
       "    </tr>\n",
       "  </tbody>\n",
       "</table>\n",
       "<p>121 rows × 14 columns</p>\n",
       "</div>"
      ],
      "text/plain": [
       "            d0        z0       phi     theta        qp         time    err_d0  \\\n",
       "0    -0.380284  0.096782  0.210407  1.112431  0.273764  1107.508911  0.034043   \n",
       "1    -0.862467  0.096751  0.382348  0.201103 -0.107264   890.897949  0.067760   \n",
       "2     0.012195  0.096685  0.511967  0.243231  0.044517   682.265198  0.039178   \n",
       "3     1.293400  0.096890  0.412932  0.863238 -0.370806  1167.995605  0.031692   \n",
       "4    -0.698098  0.096838 -0.421190  0.355347  0.133136   988.288818  0.049506   \n",
       "..         ...       ...       ...       ...       ...          ...       ...   \n",
       "116  -2.052145 -0.083493  0.311750  0.290069  0.083498  3918.923828  0.046767   \n",
       "117 -16.598299 -0.081082  0.104956  0.790115  0.223654  4241.563965  0.051378   \n",
       "118   4.761304 -0.082311  0.461286  0.155370 -0.067531  3885.405029  0.033794   \n",
       "119 -25.686710 -0.085718 -0.375282  0.839057 -0.362273  3761.727051  0.038892   \n",
       "120 -35.457642 -0.100247  0.460682  0.472331 -0.222290  3976.719238  0.058137   \n",
       "\n",
       "       err_z0   err_phi  err_theta    err_qp   err_time  truth_vtxID  \\\n",
       "0    0.044472  0.001064   0.000931  0.007895  299.79245            0   \n",
       "1    0.162320  0.001257   0.000373  0.003393  299.79248            0   \n",
       "2    0.084507  0.000744   0.000249  0.001491  299.79248            0   \n",
       "3    0.040798  0.000787   0.001301  0.009918  299.79245            0   \n",
       "4    0.070116  0.000976   0.000570  0.004092  299.79245            0   \n",
       "..        ...       ...        ...       ...        ...          ...   \n",
       "116  0.081285  0.000939   0.000417  0.002627  299.79245            5   \n",
       "117  0.058711  0.001204   0.001408  0.005995  299.79245            5   \n",
       "118  0.149497  0.001209   0.000248  0.002123  299.79248            5   \n",
       "119  0.054252  0.001108   0.001819  0.009533  299.79245            5   \n",
       "120  0.071922  0.001043   0.000886  0.006424  299.79245            5   \n",
       "\n",
       "     pred_label  \n",
       "0             1  \n",
       "1             1  \n",
       "2             1  \n",
       "3             1  \n",
       "4             1  \n",
       "..          ...  \n",
       "116           0  \n",
       "117           0  \n",
       "118           0  \n",
       "119           0  \n",
       "120           0  \n",
       "\n",
       "[121 rows x 14 columns]"
      ]
     },
     "execution_count": 4,
     "metadata": {},
     "output_type": "execute_result"
    }
   ],
   "source": [
    "output[0]"
   ]
  },
  {
   "cell_type": "code",
   "execution_count": 5,
   "id": "c18cdbd5-7eb9-4125-b74d-0f84670c878e",
   "metadata": {},
   "outputs": [],
   "source": [
    "n_vtx_evt_pred = ROOT.TH1F(\"n_vtx_evt_pred\", \"n_vtx_evt_pred\", 20, 0.5, 20.5)\n",
    "n_vtx_evt_truth = ROOT.TH1F(\"n_vtx_evt_truth\", \"n_vtx_evt_truth\", 20, 0.5, 20.5)\n",
    "n_vtx_evt_diff = ROOT.TH1F(\"n_vtx_evt_diff\", \"n_vtx_evt_diff\", 20, -10.5, 10.5)\n",
    "\n",
    "\n",
    "n_trk_evt_pred = ROOT.TH1F(\"n_trk_evt_pred\", \"n_trk_evt_pred\", 100, 0.5, 100.5)\n",
    "n_trk_evt_truth = ROOT.TH1F(\"n_trk_evt_truth\", \"n_trk_evt_truth\", 100, 0.5, 100.5)"
   ]
  },
  {
   "cell_type": "code",
   "execution_count": 6,
   "id": "b3fd2503-3a70-4aea-a2a8-e768b5a4ffd0",
   "metadata": {},
   "outputs": [],
   "source": [
    "n_trk_pred_list = np.zeros((1))\n",
    "n_trk_truth_list = np.zeros((1))\n",
    "\n",
    "for i, evt in enumerate(output):\n",
    "    n_vtx_pred = len(np.unique(evt['pred_label']))\n",
    "    n_vtx_truth = len(np.unique(evt['truth_vtxID']))\n",
    "    n_vtx_evt_pred.Fill(n_vtx_pred)\n",
    "    n_vtx_evt_truth.Fill(n_vtx_truth)\n",
    "    n_vtx_evt_diff.Fill(n_vtx_pred - n_vtx_truth)\n",
    "    \n",
    "    \n",
    "    n_trk_pred_list = np.concatenate((n_trk_pred_list,  np.bincount(evt['pred_label'])), axis = 0)\n",
    "    n_trk_truth_list = np.concatenate((n_trk_truth_list,  np.bincount(evt['truth_vtxID'])), axis = 0)\n",
    "\n",
    "n_trk_pred_list = np.delete(n_trk_pred_list, 0) \n",
    "n_trk_truth_list = np.delete(n_trk_truth_list, 0) "
   ]
  },
  {
   "cell_type": "code",
   "execution_count": 7,
   "id": "2e7cfa82-e393-4c64-b7d5-125f7173c62e",
   "metadata": {},
   "outputs": [
    {
     "data": {
      "image/png": "[encoded data removed]",
      "text/plain": [
       "<IPython.core.display.Image object>"
      ]
     },
     "metadata": {},
     "output_type": "display_data"
    },
    {
     "data": {
      "image/png": "[encoded data removed]",
      "text/plain": [
       "<IPython.core.display.Image object>"
      ]
     },
     "metadata": {},
     "output_type": "display_data"
    },
    {
     "data": {
      "image/png": "[encoded data removed]",
      "text/plain": [
       "<IPython.core.display.Image object>"
      ]
     },
     "metadata": {},
     "output_type": "display_data"
    }
   ],
   "source": [
    "c1 = ROOT.TCanvas()\n",
    "n_vtx_evt_pred.Draw()\n",
    "# n_vtx_evt_truth.SetLineColor(2)\n",
    "# n_vtx_evt_truth.Draw(\"same\")\n",
    "\n",
    "c1.Draw()\n",
    "\n",
    "c2 = ROOT.TCanvas()\n",
    "n_vtx_evt_truth.Draw()\n",
    "c2.Draw()\n",
    "\n",
    "c3 = ROOT.TCanvas()\n",
    "n_vtx_evt_diff.Draw()\n",
    "c3.Draw()"
   ]
  },
  {
   "cell_type": "code",
   "execution_count": 8,
   "id": "320c17e7-4010-4c3d-b374-dc2d6407b7ca",
   "metadata": {},
   "outputs": [],
   "source": [
    "for i in range(len(n_trk_pred_list)):\n",
    "    n_trk_evt_pred.Fill(n_trk_pred_list[i])\n",
    "    \n",
    "for i in range(len(n_trk_truth_list)):\n",
    "    n_trk_evt_truth.Fill(n_trk_truth_list[i])\n",
    "    "
   ]
  },
  {
   "cell_type": "code",
   "execution_count": 9,
   "id": "ee4b0c55-42da-4bbf-872c-f5a2c52ab005",
   "metadata": {},
   "outputs": [
    {
     "data": {
      "image/png": "[encoded data removed]",
      "text/plain": [
       "<IPython.core.display.Image object>"
      ]
     },
     "metadata": {},
     "output_type": "display_data"
    },
    {
     "data": {
      "image/png": "[encoded data removed]",
      "text/plain": [
       "<IPython.core.display.Image object>"
      ]
     },
     "metadata": {},
     "output_type": "display_data"
    }
   ],
   "source": [
    "c4 = ROOT.TCanvas()\n",
    "n_trk_evt_pred.Draw()\n",
    "c4.Draw()\n",
    "\n",
    "c5 = ROOT.TCanvas()\n",
    "n_trk_evt_truth.Draw()\n",
    "c5.Draw()"
   ]
  },
  {
   "cell_type": "code",
   "execution_count": 10,
   "id": "67556624-369e-4917-a695-eecb49ec7cf3",
   "metadata": {},
   "outputs": [],
   "source": [
    "pt2_vtx_pred_list = np.zeros((1))\n",
    "pt2_vtx_truth_list = np.zeros((1))\n",
    "\n",
    "for i, evt in enumerate(output):\n",
    "    vtx_pt2_pred = []\n",
    "    vtx_pt2_truth = []\n",
    "    for cluster_id_pred in np.unique(evt['pred_label']):\n",
    "        trk_idx_pred = (evt['pred_label']==cluster_id_pred)\n",
    "        vtx_pt_pred = np.sum((1./evt[trk_idx_pred]['qp'] * np.cos(evt[trk_idx_pred]['theta']))**2)\n",
    "        vtx_pt2_pred.append(vtx_pt_pred)\n",
    "\n",
    "    for cluster_id_truth in np.unique(evt['truth_vtxID']):\n",
    "        trk_idx_truth = (evt['truth_vtxID']==cluster_id_truth)\n",
    "        vtx_pt_truth = np.sum((1./evt[trk_idx_truth]['qp'] * np.cos(evt[trk_idx_truth]['theta']))**2)\n",
    "        vtx_pt2_truth.append(vtx_pt_truth)\n",
    "        \n",
    "\n",
    "    pt2_vtx_pred_list = np.concatenate((pt2_vtx_pred_list,  np.array(vtx_pt2_pred)), axis = 0)\n",
    "    pt2_vtx_truth_list = np.concatenate((pt2_vtx_truth_list,  np.array(vtx_pt2_truth)), axis = 0)\n",
    "    \n",
    "pt2_vtx_pred_list = np.delete(pt2_vtx_pred_list, 0) \n",
    "pt2_vtx_truth_list = np.delete(pt2_vtx_truth_list, 0) \n"
   ]
  },
  {
   "cell_type": "code",
   "execution_count": 11,
   "id": "cc6afe56-f8b2-4006-9b5d-db29bbe0b9d9",
   "metadata": {},
   "outputs": [],
   "source": [
    "hist_pt2_vtx_pred = ROOT.TH1F(\"hist_pt2_vtx_pred\", \"hist_pt2_vtx_pred\", 100, 0, 5000)\n",
    "hist_pt2_vtx_truth = ROOT.TH1F(\"hist_pt2_vtx_truth\", \"hist_pt2_vtx_truth\", 100, 0, 5000)"
   ]
  },
  {
   "cell_type": "code",
   "execution_count": 12,
   "id": "92499fbf-8a43-4afb-aa05-4981a365f38f",
   "metadata": {},
   "outputs": [],
   "source": [
    "for pt2_vtx in pt2_vtx_pred_list:\n",
    "    hist_pt2_vtx_pred.Fill(pt2_vtx)\n",
    "    \n",
    "for pt2_vtx in pt2_vtx_truth_list:\n",
    "    hist_pt2_vtx_truth.Fill(pt2_vtx)"
   ]
  },
  {
   "cell_type": "code",
   "execution_count": 13,
   "id": "e0ab51fe-9847-4c8a-a07c-7a62a82b31ef",
   "metadata": {},
   "outputs": [
    {
     "data": {
      "image/png": "[encoded data removed]",
      "text/plain": [
       "<IPython.core.display.Image object>"
      ]
     },
     "metadata": {},
     "output_type": "display_data"
    },
    {
     "data": {
      "image/png": "[encoded data removed]",
      "text/plain": [
       "<IPython.core.display.Image object>"
      ]
     },
     "metadata": {},
     "output_type": "display_data"
    }
   ],
   "source": [
    "c6 = ROOT.TCanvas()\n",
    "hist_pt2_vtx_pred.Draw()\n",
    "c6.Draw()\n",
    "\n",
    "c7 = ROOT.TCanvas()\n",
    "hist_pt2_vtx_truth.Draw()\n",
    "c7.Draw()"
   ]
  },
  {
   "cell_type": "code",
   "execution_count": null,
   "id": "e0e04804-6bc6-483e-a31e-d88137e3d75f",
   "metadata": {},
   "outputs": [],
   "source": []
  },
  {
   "cell_type": "code",
   "execution_count": null,
   "id": "0c296b35-d028-4ce3-a051-b030b989bf6e",
   "metadata": {},
   "outputs": [],
   "source": []
  },
  {
   "cell_type": "code",
   "execution_count": null,
   "id": "1d46200c-7cb0-4365-a9e1-c366c8e57d99",
   "metadata": {},
   "outputs": [],
   "source": []
  },
  {
   "cell_type": "code",
   "execution_count": null,
   "id": "84147bf8-c536-4182-b957-a0a14cf3d524",
   "metadata": {},
   "outputs": [],
   "source": []
  },
  {
   "cell_type": "code",
   "execution_count": null,
   "id": "9099c163-5e52-4ae2-82a4-1770f679e5de",
   "metadata": {},
   "outputs": [],
   "source": []
  }
 ],
 "metadata": {
  "kernelspec": {
   "display_name": "Python 3 (ipykernel)",
   "language": "python",
   "name": "python3"
  },
  "language_info": {
   "codemirror_mode": {
    "name": "ipython",
    "version": 3
   },
   "file_extension": ".py",
   "mimetype": "text/x-python",
   "name": "python",
   "nbconvert_exporter": "python",
   "pygments_lexer": "ipython3",
   "version": "3.9.7"
  }
 },
 "nbformat": 4,
 "nbformat_minor": 5
}
